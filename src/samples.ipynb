{
 "cells": [
  {
   "cell_type": "markdown",
   "id": "05e42515",
   "metadata": {},
   "source": [
    "Si fuéramos el encargado de llevar el inventario y quisierámos ajustar la política de pedido (s, S). "
   ]
  },
  {
   "cell_type": "code",
   "execution_count": 1780,
   "id": "initial_id",
   "metadata": {
    "collapsed": true,
    "is_executing": true
   },
   "outputs": [
    {
     "name": "stdout",
     "output_type": "stream",
     "text": [
      "Average money in simulation 1: 3592.765009831206 with s=25 and S=80\n",
      "Average money in simulation 2: 4900.397276341767 with s=25 and S=110\n"
     ]
    }
   ],
   "source": [
    "import numpy as np\n",
    "from inventory.inventory_simulation import InventoryConfig, inventory_simulation\n",
    "\n",
    "price_product = 100\n",
    "# demora refill_interval_product unidades de tiempo en llegar el pedido (L) \n",
    "refill_interval_product = 3\n",
    "# cuesta 2/3 del precio al que se vende comprarlo\n",
    "refill_cost_product = lambda product_cant: product_cant * price_product / 2\n",
    "# cuesta 1 por producto por unidad de tiempo mantenerlo\n",
    "inventory_cost_product = lambda product_cant, y: product_cant * y / 100\n",
    "\n",
    "s_product1 = 25\n",
    "S_product1 = 80\n",
    "\n",
    "s_product2 = 25\n",
    "S_product2 = 110\n",
    "\n",
    "config1 = InventoryConfig(price_product, s_product1, S_product1, refill_interval_product,\n",
    "                                  refill_cost_product, inventory_cost_product)\n",
    "config2 = InventoryConfig(price_product, s_product2, S_product2, refill_interval_product,\n",
    "                                  refill_cost_product, inventory_cost_product)\n",
    "\n",
    "demand_dist_product = lambda: np.random.randint(1, 5)\n",
    "demand_dists = [demand_dist_product]\n",
    "\n",
    "max_time = 24 * 7 \n",
    "\n",
    "time_dist = lambda: np.random.exponential(8)\n",
    "\n",
    "initial_money = 0\n",
    "\n",
    "total_simulations = 100\n",
    "simulation1_results = []\n",
    "simulation2_results = []\n",
    "\n",
    "for i in range(total_simulations):\n",
    "    _, state = inventory_simulation(max_time, time_dist, [config1], demand_dists, [S_product1], initial_money)\n",
    "    simulation1_results.append(state.money)\n",
    "\n",
    "    _, state = inventory_simulation(max_time, time_dist, [config2], demand_dists, [S_product2], initial_money)\n",
    "    simulation2_results.append(state.money)\n",
    "    \n",
    "average1 = np.mean(simulation1_results)\n",
    "average2 = np.mean(simulation2_results)\t\n",
    "\n",
    "print(f\"Average money in simulation 1: {average1} with s={s_product1} and S={S_product1}\")\n",
    "print(f\"Average money in simulation 2: {average2} with s={s_product2} and S={S_product2}\")"
   ]
  },
  {
   "cell_type": "code",
   "execution_count": 1792,
   "metadata": {},
   "outputs": [
    {
     "name": "stdout",
     "output_type": "stream",
     "text": [
      "Sd in simulation 1: 1472.0671903140264 with s=25 and S=80\n",
      "Sd in simulation 2: 1102.3620793939826 with s=25 and S=110\n"
     ]
    }
   ],
   "source": [
    "#calculemos la varianza\n",
    "variance1 = np.std(simulation1_results)\n",
    "variance2 = np.std(simulation2_results)\n",
    "\n",
    "print(f\"Sd in simulation 1: {variance1} with s={s_product1} and S={S_product1}\")\n",
    "print(f\"Sd in simulation 2: {variance2} with s={s_product2} and S={S_product2}\")"
   ]
  },
  {
   "cell_type": "code",
   "execution_count": 1782,
   "id": "7e8b5535",
   "metadata": {},
   "outputs": [
    {
     "name": "stderr",
     "output_type": "stream",
     "text": [
      "/tmp/ipykernel_8391/3354690900.py:11: UserWarning: FixedFormatter should only be used together with FixedLocator\n",
      "  ax.set_xticklabels([(f's={s_product1} and S={S_product1}'), f's={s_product2} and S={S_product2}'])\n"
     ]
    },
    {
     "data": {
      "image/png": "[encoded data removed]",
      "text/plain": [
       "<Figure size 640x480 with 1 Axes>"
      ]
     },
     "metadata": {},
     "output_type": "display_data"
    }
   ],
   "source": [
    "# analicemos el promedio de dinero \n",
    "import matplotlib.pyplot as plt\n",
    "\n",
    "data = [simulation1_results, simulation2_results]\n",
    "\n",
    "# cambiar la escala para visualizar mejor los resultados\n",
    "\n",
    "\n",
    "\n",
    "fig, ax = plt.subplots(dpi=100)\n",
    "ax.set_xticklabels([(f's={s_product1} and S={S_product1}'), f's={s_product2} and S={S_product2}'])\n",
    "ax.set_title('Average money')\n",
    "\n",
    "ax.boxplot(data)\n",
    "plt.savefig('average_cost')\n",
    "plt.show()"
   ]
  },
  {
   "cell_type": "code",
   "execution_count": 1783,
   "id": "e2596d9f",
   "metadata": {},
   "outputs": [
    {
     "name": "stdout",
     "output_type": "stream",
     "text": [
      "Confidence interval for simulation 1: (3304.24514224735, 3881.284877415062)\n",
      "Confidence interval for simulation 2: (4684.338278988278, 5116.456273695256)\n",
      "Confidence interval for the difference: (-1647.6991746905496,-967.5653583305733)\n"
     ]
    }
   ],
   "source": [
    "# ahora analicemos los intervalos de confianza\n",
    "import scipy.stats as stats\n",
    "\n",
    "confidence = 0.95\n",
    "n = len(simulation1_results)\n",
    "m = len(simulation2_results)\n",
    "\n",
    "mean1 = np.mean(simulation1_results)\n",
    "mean2 = np.mean(simulation2_results)\n",
    "\n",
    "std1 = np.std(simulation1_results)\n",
    "std2 = np.std(simulation2_results)\n",
    "\n",
    "ci1 = stats.norm.interval(confidence, loc=mean1, scale=std1/np.sqrt(n))\n",
    "ci2 = stats.norm.interval(confidence, loc=mean2, scale=std2/np.sqrt(m))\n",
    "\n",
    "print(f\"Confidence interval for simulation 1: {ci1}\")\n",
    "print(f\"Confidence interval for simulation 2: {ci2}\")\n",
    "\n",
    "# intervalo de confianza para las diferencia\n",
    "diff_mean = mean1 - mean2\n",
    "data = [m - n for m,n in zip(simulation1_results, simulation2_results)]\n",
    "mean = np.mean(data)\n",
    "std = np.std(data)\n",
    "alpha = 1 - confidence\n",
    "tstat = stats.t.ppf(1-alpha/2, len(data) - 1)\n",
    "\n",
    "error_margin = tstat * std / np.sqrt(len(data))\n",
    "lbound = mean - error_margin\n",
    "ubound = mean + error_margin\n",
    "\n",
    "print(f\"Confidence interval for the difference: ({lbound},{ubound})\")\n"
   ]
  }
 ],
 "metadata": {
  "kernelspec": {
   "display_name": "Python 3",
   "language": "python",
   "name": "python3"
  },
  "language_info": {
   "codemirror_mode": {
    "name": "ipython",
    "version": 3
   },
   "file_extension": ".py",
   "mimetype": "text/x-python",
   "name": "python",
   "nbconvert_exporter": "python",
   "pygments_lexer": "ipython3",
   "version": "3.8.10"
  }
 },
 "nbformat": 4,
 "nbformat_minor": 5
}
